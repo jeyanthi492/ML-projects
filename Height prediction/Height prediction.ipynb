{
  "nbformat": 4,
  "nbformat_minor": 0,
  "metadata": {
    "colab": {
      "provenance": [],
      "authorship_tag": "ABX9TyMMPfvpMjRNy7mG98rnTyQH",
      "include_colab_link": true
    },
    "kernelspec": {
      "name": "python3",
      "display_name": "Python 3"
    },
    "language_info": {
      "name": "python"
    }
  },
  "cells": [
    {
      "cell_type": "markdown",
      "metadata": {
        "id": "view-in-github",
        "colab_type": "text"
      },
      "source": [
        "<a href=\"https://colab.research.google.com/github/jeyanthi492/ML-projects/blob/main/Height%20prediction/Height%20prediction.ipynb\" target=\"_parent\"><img src=\"https://colab.research.google.com/assets/colab-badge.svg\" alt=\"Open In Colab\"/></a>"
      ]
    },
    {
      "cell_type": "markdown",
      "source": [
        "Height prediction using Decision Tree regression - Based on Age\n",
        "X - Age\n",
        "Y - height"
      ],
      "metadata": {
        "id": "2ZCINiTYPzI1"
      }
    },
    {
      "cell_type": "code",
      "execution_count": null,
      "metadata": {
        "id": "T-aa9TW-PUC7"
      },
      "outputs": [],
      "source": [
        "import pandas as pd\n",
        "import numpy as np\n",
        "import matplotlib.pyplot as plt"
      ]
    },
    {
      "cell_type": "code",
      "source": [
        "from google.colab import files\n",
        "uploaded = files.upload()"
      ],
      "metadata": {
        "colab": {
          "base_uri": "https://localhost:8080/",
          "height": 73
        },
        "id": "NyTwM3tzRm_8",
        "outputId": "73b7c3bd-2575-4ee6-d962-ce692ade493a"
      },
      "execution_count": null,
      "outputs": [
        {
          "output_type": "display_data",
          "data": {
            "text/plain": [
              "<IPython.core.display.HTML object>"
            ],
            "text/html": [
              "\n",
              "     <input type=\"file\" id=\"files-04c11501-c1c8-481e-a780-84bc45ebe994\" name=\"files[]\" multiple disabled\n",
              "        style=\"border:none\" />\n",
              "     <output id=\"result-04c11501-c1c8-481e-a780-84bc45ebe994\">\n",
              "      Upload widget is only available when the cell has been executed in the\n",
              "      current browser session. Please rerun this cell to enable.\n",
              "      </output>\n",
              "      <script>// Copyright 2017 Google LLC\n",
              "//\n",
              "// Licensed under the Apache License, Version 2.0 (the \"License\");\n",
              "// you may not use this file except in compliance with the License.\n",
              "// You may obtain a copy of the License at\n",
              "//\n",
              "//      http://www.apache.org/licenses/LICENSE-2.0\n",
              "//\n",
              "// Unless required by applicable law or agreed to in writing, software\n",
              "// distributed under the License is distributed on an \"AS IS\" BASIS,\n",
              "// WITHOUT WARRANTIES OR CONDITIONS OF ANY KIND, either express or implied.\n",
              "// See the License for the specific language governing permissions and\n",
              "// limitations under the License.\n",
              "\n",
              "/**\n",
              " * @fileoverview Helpers for google.colab Python module.\n",
              " */\n",
              "(function(scope) {\n",
              "function span(text, styleAttributes = {}) {\n",
              "  const element = document.createElement('span');\n",
              "  element.textContent = text;\n",
              "  for (const key of Object.keys(styleAttributes)) {\n",
              "    element.style[key] = styleAttributes[key];\n",
              "  }\n",
              "  return element;\n",
              "}\n",
              "\n",
              "// Max number of bytes which will be uploaded at a time.\n",
              "const MAX_PAYLOAD_SIZE = 100 * 1024;\n",
              "\n",
              "function _uploadFiles(inputId, outputId) {\n",
              "  const steps = uploadFilesStep(inputId, outputId);\n",
              "  const outputElement = document.getElementById(outputId);\n",
              "  // Cache steps on the outputElement to make it available for the next call\n",
              "  // to uploadFilesContinue from Python.\n",
              "  outputElement.steps = steps;\n",
              "\n",
              "  return _uploadFilesContinue(outputId);\n",
              "}\n",
              "\n",
              "// This is roughly an async generator (not supported in the browser yet),\n",
              "// where there are multiple asynchronous steps and the Python side is going\n",
              "// to poll for completion of each step.\n",
              "// This uses a Promise to block the python side on completion of each step,\n",
              "// then passes the result of the previous step as the input to the next step.\n",
              "function _uploadFilesContinue(outputId) {\n",
              "  const outputElement = document.getElementById(outputId);\n",
              "  const steps = outputElement.steps;\n",
              "\n",
              "  const next = steps.next(outputElement.lastPromiseValue);\n",
              "  return Promise.resolve(next.value.promise).then((value) => {\n",
              "    // Cache the last promise value to make it available to the next\n",
              "    // step of the generator.\n",
              "    outputElement.lastPromiseValue = value;\n",
              "    return next.value.response;\n",
              "  });\n",
              "}\n",
              "\n",
              "/**\n",
              " * Generator function which is called between each async step of the upload\n",
              " * process.\n",
              " * @param {string} inputId Element ID of the input file picker element.\n",
              " * @param {string} outputId Element ID of the output display.\n",
              " * @return {!Iterable<!Object>} Iterable of next steps.\n",
              " */\n",
              "function* uploadFilesStep(inputId, outputId) {\n",
              "  const inputElement = document.getElementById(inputId);\n",
              "  inputElement.disabled = false;\n",
              "\n",
              "  const outputElement = document.getElementById(outputId);\n",
              "  outputElement.innerHTML = '';\n",
              "\n",
              "  const pickedPromise = new Promise((resolve) => {\n",
              "    inputElement.addEventListener('change', (e) => {\n",
              "      resolve(e.target.files);\n",
              "    });\n",
              "  });\n",
              "\n",
              "  const cancel = document.createElement('button');\n",
              "  inputElement.parentElement.appendChild(cancel);\n",
              "  cancel.textContent = 'Cancel upload';\n",
              "  const cancelPromise = new Promise((resolve) => {\n",
              "    cancel.onclick = () => {\n",
              "      resolve(null);\n",
              "    };\n",
              "  });\n",
              "\n",
              "  // Wait for the user to pick the files.\n",
              "  const files = yield {\n",
              "    promise: Promise.race([pickedPromise, cancelPromise]),\n",
              "    response: {\n",
              "      action: 'starting',\n",
              "    }\n",
              "  };\n",
              "\n",
              "  cancel.remove();\n",
              "\n",
              "  // Disable the input element since further picks are not allowed.\n",
              "  inputElement.disabled = true;\n",
              "\n",
              "  if (!files) {\n",
              "    return {\n",
              "      response: {\n",
              "        action: 'complete',\n",
              "      }\n",
              "    };\n",
              "  }\n",
              "\n",
              "  for (const file of files) {\n",
              "    const li = document.createElement('li');\n",
              "    li.append(span(file.name, {fontWeight: 'bold'}));\n",
              "    li.append(span(\n",
              "        `(${file.type || 'n/a'}) - ${file.size} bytes, ` +\n",
              "        `last modified: ${\n",
              "            file.lastModifiedDate ? file.lastModifiedDate.toLocaleDateString() :\n",
              "                                    'n/a'} - `));\n",
              "    const percent = span('0% done');\n",
              "    li.appendChild(percent);\n",
              "\n",
              "    outputElement.appendChild(li);\n",
              "\n",
              "    const fileDataPromise = new Promise((resolve) => {\n",
              "      const reader = new FileReader();\n",
              "      reader.onload = (e) => {\n",
              "        resolve(e.target.result);\n",
              "      };\n",
              "      reader.readAsArrayBuffer(file);\n",
              "    });\n",
              "    // Wait for the data to be ready.\n",
              "    let fileData = yield {\n",
              "      promise: fileDataPromise,\n",
              "      response: {\n",
              "        action: 'continue',\n",
              "      }\n",
              "    };\n",
              "\n",
              "    // Use a chunked sending to avoid message size limits. See b/62115660.\n",
              "    let position = 0;\n",
              "    do {\n",
              "      const length = Math.min(fileData.byteLength - position, MAX_PAYLOAD_SIZE);\n",
              "      const chunk = new Uint8Array(fileData, position, length);\n",
              "      position += length;\n",
              "\n",
              "      const base64 = btoa(String.fromCharCode.apply(null, chunk));\n",
              "      yield {\n",
              "        response: {\n",
              "          action: 'append',\n",
              "          file: file.name,\n",
              "          data: base64,\n",
              "        },\n",
              "      };\n",
              "\n",
              "      let percentDone = fileData.byteLength === 0 ?\n",
              "          100 :\n",
              "          Math.round((position / fileData.byteLength) * 100);\n",
              "      percent.textContent = `${percentDone}% done`;\n",
              "\n",
              "    } while (position < fileData.byteLength);\n",
              "  }\n",
              "\n",
              "  // All done.\n",
              "  yield {\n",
              "    response: {\n",
              "      action: 'complete',\n",
              "    }\n",
              "  };\n",
              "}\n",
              "\n",
              "scope.google = scope.google || {};\n",
              "scope.google.colab = scope.google.colab || {};\n",
              "scope.google.colab._files = {\n",
              "  _uploadFiles,\n",
              "  _uploadFilesContinue,\n",
              "};\n",
              "})(self);\n",
              "</script> "
            ]
          },
          "metadata": {}
        },
        {
          "output_type": "stream",
          "name": "stdout",
          "text": [
            "Saving bmi.csv to bmi.csv\n"
          ]
        }
      ]
    },
    {
      "cell_type": "code",
      "source": [
        "dataset = pd.read_csv('bmi.csv')\n",
        "print(dataset.shape)\n",
        "print(dataset.head(5))"
      ],
      "metadata": {
        "colab": {
          "base_uri": "https://localhost:8080/"
        },
        "id": "0yIWTiLeSOez",
        "outputId": "04367f45-03d9-494a-d24f-8145fc789437"
      },
      "execution_count": null,
      "outputs": [
        {
          "output_type": "stream",
          "name": "stdout",
          "text": [
            "(741, 5)\n",
            "   Age  Height  Weight        Bmi       BmiClass\n",
            "0   61    1.85  109.30  31.935720  Obese Class 1\n",
            "1   60    1.71   79.02  27.023700     Overweight\n",
            "2   60    1.55   74.70  31.092612  Obese Class 1\n",
            "3   60    1.46   35.90  16.841809    Underweight\n",
            "4   60    1.58   97.10  38.896010  Obese Class 2\n"
          ]
        }
      ]
    },
    {
      "cell_type": "code",
      "source": [
        "X = dataset.iloc[:, 0:1].values\n",
        "Y = dataset.iloc[:,1].values\n",
        "Y"
      ],
      "metadata": {
        "colab": {
          "base_uri": "https://localhost:8080/"
        },
        "id": "yXzVehokSZrZ",
        "outputId": "1cf9f366-3f64-4622-9de6-9626ee017893"
      },
      "execution_count": null,
      "outputs": [
        {
          "output_type": "execute_result",
          "data": {
            "text/plain": [
              "array([1.85  , 1.71  , 1.55  , 1.46  , 1.58  , 1.71  , 1.7   , 1.72  ,\n",
              "       1.46  , 1.83  , 1.71  , 1.7   , 1.72  , 1.47  , 1.71  , 1.7   ,\n",
              "       1.72  , 1.75  , 1.58  , 1.47  , 1.6   , 1.71  , 1.7   , 1.72  ,\n",
              "       1.59  , 1.47  , 1.8   , 1.59  , 1.72  , 1.71  , 1.73  , 1.72  ,\n",
              "       1.7   , 1.48  , 1.72  , 1.71  , 1.61  , 1.48  , 1.61  , 1.72  ,\n",
              "       1.62  , 1.49  , 1.62  , 1.72  , 1.71  , 1.6   , 1.49  , 1.64  ,\n",
              "       1.72  , 1.71  , 1.63  , 1.5   , 1.75  , 1.7   , 1.73  , 1.72  ,\n",
              "       1.74  , 1.8   , 1.62  , 1.63  , 1.5   , 1.84  , 1.66  , 1.73  ,\n",
              "       1.72  , 1.74  , 1.6   , 1.6   , 1.64  , 1.51  , 1.63  , 1.74  ,\n",
              "       1.73  , 1.75  , 1.63  , 1.58  , 1.68  , 1.51  , 1.69  , 1.74  ,\n",
              "       1.73  , 1.75  , 1.55  , 1.65  , 1.52  , 1.82  , 1.75  , 1.74  ,\n",
              "       1.73  , 1.75  , 1.86  , 1.73  , 1.52  , 1.74  , 1.74  , 1.73  ,\n",
              "       1.75  , 1.68  , 1.84  , 1.72  , 1.53  , 1.78  , 1.8   , 1.74  ,\n",
              "       1.73  , 1.75  , 1.82  , 1.71  , 1.53  , 1.8   , 1.79  , 1.74  ,\n",
              "       1.73  , 1.75  , 1.8   , 1.69  , 1.54  , 1.78  , 1.74  , 1.73  ,\n",
              "       1.75  , 1.65  , 1.78  , 1.75  , 1.54  , 1.79  , 1.75  , 1.74  ,\n",
              "       1.73  , 1.75  , 1.76  , 1.72  , 1.55  , 1.73  , 1.74  , 1.73  ,\n",
              "       1.75  , 1.729 , 1.7   , 1.74  , 1.7   , 1.56  , 1.68  , 1.74  ,\n",
              "       1.73  , 1.75  , 1.729 , 1.72  , 1.66  , 1.56  , 1.78  , 1.74  ,\n",
              "       1.74  , 1.73  , 1.75  , 1.729 , 1.68  , 1.7   , 1.71  , 1.57  ,\n",
              "       1.77  , 1.78  , 1.74  , 1.73  , 1.75  , 1.729 , 1.7298, 1.68  ,\n",
              "       1.67  , 1.58  , 1.76  , 1.74  , 1.73  , 1.75  , 1.729 , 1.7298,\n",
              "       1.66  , 1.69  , 1.68  , 1.59  , 1.75  , 1.74  , 1.73  , 1.75  ,\n",
              "       1.729 , 1.7298, 1.7   , 1.64  , 1.71  , 1.72  , 1.65  , 1.6   ,\n",
              "       1.75  , 1.7   , 1.74  , 1.73  , 1.75  , 1.729 , 1.7298, 1.62  ,\n",
              "       1.73  , 1.72  , 1.71  , 1.7   , 1.73  , 1.61  , 1.77  , 1.81  ,\n",
              "       1.74  , 1.73  , 1.75  , 1.729 , 1.7298, 1.6   , 1.69  , 1.73  ,\n",
              "       1.7   , 1.77  , 1.62  , 1.76  , 1.8   , 1.74  , 1.73  , 1.75  ,\n",
              "       1.729 , 1.6   , 1.58  , 1.65  , 1.68  , 1.7   , 1.68  , 1.65  ,\n",
              "       1.69  , 1.64  , 1.72  , 1.77  , 1.74  , 1.73  , 1.75  , 1.729 ,\n",
              "       1.7298, 1.55  , 1.68  , 1.74  , 1.71  , 1.68  , 1.63  , 1.7   ,\n",
              "       1.65  , 1.74  , 1.85  , 1.74  , 1.73  , 1.75  , 1.729 , 1.7298,\n",
              "       1.68  , 1.7   , 1.8   , 2.07  , 1.86  , 1.7   , 1.72  , 1.69  ,\n",
              "       1.65  , 1.865 , 1.87  , 1.68  , 1.67  , 1.74  , 1.72  , 1.79  ,\n",
              "       1.78  , 1.8   , 1.779 , 1.7798, 1.65  , 1.75  , 2.05  , 1.84  ,\n",
              "       1.63  , 1.7   , 1.68  , 1.66  , 1.847 , 1.853 , 1.72  , 1.66  ,\n",
              "       1.75  , 1.76  , 1.78  , 1.77  , 1.79  , 1.769 , 1.7698, 1.75  ,\n",
              "       1.67  , 1.72  , 2.02  , 1.82  , 1.78  , 1.76  , 1.66  , 1.67  ,\n",
              "       1.63  , 1.832 , 1.838 , 1.78  , 1.68  , 1.73  , 1.82  , 1.77  ,\n",
              "       1.76  , 1.78  , 1.759 , 1.7598, 1.69  , 1.77  , 2.    , 1.8   ,\n",
              "       1.67  , 1.75  , 1.66  , 1.62  , 1.82  , 1.825 , 1.79  , 1.69  ,\n",
              "       1.71  , 1.84  , 1.76  , 1.75  , 1.77  , 1.749 , 1.7498, 1.64  ,\n",
              "       1.79  , 1.97  , 1.78  , 1.74  , 1.69  , 1.65  , 1.6   , 1.794 ,\n",
              "       1.799 , 1.74  , 1.71  , 1.76  , 1.86  , 1.75  , 1.74  , 1.76  ,\n",
              "       1.739 , 1.7398, 1.7   , 1.74  , 1.95  , 1.76  , 1.72  , 1.62  ,\n",
              "       1.6   , 1.77  , 1.77  , 1.76  , 1.76  , 1.786 , 1.781 , 1.75  ,\n",
              "       1.73  , 1.71  , 1.75  , 1.77  , 1.76  , 1.78  , 1.759 , 1.781 ,\n",
              "       1.62  , 1.76  , 1.92  , 1.74  , 1.75  , 1.76  , 1.76  , 1.75  ,\n",
              "       1.75  , 1.772 , 1.767 , 1.76  , 1.66  , 1.72  , 1.83  , 1.76  ,\n",
              "       1.75  , 1.77  , 1.749 , 1.771 , 1.68  , 1.71  , 1.9   , 1.72  ,\n",
              "       1.75  , 1.75  , 1.74  , 1.74  , 1.753 , 1.746 , 1.68  , 1.7   ,\n",
              "       1.75  , 1.74  , 1.76  , 1.739 , 1.761 , 1.762 , 1.738 , 1.63  ,\n",
              "       1.66  , 1.69  , 1.87  , 1.7   , 1.74  , 1.76  , 1.74  , 1.73  ,\n",
              "       1.72  , 1.709 , 1.702 , 1.8   , 1.7   , 1.68  , 1.79  , 1.74  ,\n",
              "       1.73  , 1.75  , 1.729 , 1.751 , 1.752 , 1.728 , 1.75  , 1.71  ,\n",
              "       1.73  , 1.85  , 1.68  , 1.73  , 1.75  , 1.73  , 1.72  , 1.71  ,\n",
              "       1.721 , 1.715 , 1.75  , 1.7   , 1.55  , 1.69  , 1.73  , 1.72  ,\n",
              "       1.74  , 1.719 , 1.741 , 1.742 , 1.718 , 1.72  , 1.65  , 1.78  ,\n",
              "       1.82  , 1.66  , 1.72  , 1.73  , 1.72  , 1.7   , 1.69  , 1.705 ,\n",
              "       1.697 , 1.61  , 1.57  , 1.56  , 1.54  , 1.51  , 1.49  , 1.47  ,\n",
              "       1.46  , 1.68  , 1.751 , 1.741 , 1.761 , 1.74  , 1.762 , 1.763 ,\n",
              "       1.739 , 1.68  , 1.69  , 1.75  , 1.8   , 1.64  , 1.71  , 1.72  ,\n",
              "       1.7   , 1.69  , 1.68  , 1.673 , 1.661 , 1.58  , 1.6   , 1.59  ,\n",
              "       1.58  , 1.53  , 1.5   , 1.48  , 1.47  , 1.69  , 1.75  , 1.74  ,\n",
              "       1.76  , 1.739 , 1.761 , 1.762 , 1.738 , 1.59  , 1.7   , 1.67  ,\n",
              "       1.72  , 1.78  , 1.62  , 1.7   , 1.71  , 1.69  , 1.68  , 1.67  ,\n",
              "       1.69  , 1.684 , 1.62  , 1.55  , 1.61  , 1.57  , 1.52  , 1.5   ,\n",
              "       1.48  , 1.46  , 1.7   , 1.65  , 1.63  , 1.68  , 1.75  , 1.6   ,\n",
              "       1.69  , 1.7   , 1.68  , 1.67  , 1.65  , 1.638 , 1.628 , 1.63  ,\n",
              "       1.62  , 1.6   , 1.54  , 1.51  , 1.49  , 1.47  , 1.6   , 1.58  ,\n",
              "       1.7   , 1.72  , 1.58  , 1.67  , 1.68  , 1.66  , 1.65  , 1.64  ,\n",
              "       1.652 , 1.642 , 1.59  , 1.58  , 1.55  , 1.52  , 1.49  , 1.47  ,\n",
              "       1.46  , 1.55  , 1.62  , 1.65  , 1.7   , 1.55  , 1.65  , 1.66  ,\n",
              "       1.64  , 1.63  , 1.62  , 1.605 , 1.597 , 1.78  , 1.76  , 1.73  ,\n",
              "       1.81  , 1.75  , 1.7   , 1.85  , 1.8   , 1.68  , 1.8   , 1.74  ,\n",
              "       1.66  , 1.77  , 1.76  , 1.72  , 1.83  , 1.78  , 1.67  , 1.79  ,\n",
              "       1.77  , 1.65  , 1.82  , 1.76  , 1.71  , 1.78  , 1.75  , 1.65  ,\n",
              "       1.75  , 1.8   , 1.68  , 1.7   , 1.62  , 1.7   , 1.78  , 1.75  ,\n",
              "       1.69  , 1.72  , 1.79  , 1.72  , 1.66  , 1.69  , 1.76  , 1.71  ,\n",
              "       1.64  , 1.73  , 1.81  , 1.67  , 1.63  , 1.71  , 1.77  , 1.74  ,\n",
              "       1.68  , 1.66  , 1.74  , 1.78  , 1.65  , 1.6   , 1.72  , 1.76  ,\n",
              "       1.66  , 1.68  , 1.79  , 1.73  , 1.65  , 1.66  , 1.76  , 1.69  ,\n",
              "       1.64  , 1.72  , 1.78  , 1.7   , 1.69  , 1.75  , 1.68  , 1.7   ,\n",
              "       1.77  , 1.65  , 1.71  , 1.75  , 1.67  , 1.74  , 1.78  , 1.62  ,\n",
              "       1.67  , 1.7   , 1.73  , 1.63  , 1.68  , 1.71  , 1.74  , 1.64  ,\n",
              "       1.69  , 1.72  , 1.75  , 1.65  , 1.7   , 1.73  , 1.76  , 1.66  ,\n",
              "       1.71  , 1.74  , 1.77  , 1.67  , 1.72  , 1.75  , 1.68  , 1.73  ,\n",
              "       1.76  , 1.69  , 1.74  , 1.77  , 1.7   , 1.75  , 1.78  , 1.71  ,\n",
              "       1.76  , 1.79  , 1.65  , 1.7   , 1.75  , 1.8   , 1.67  , 1.72  ,\n",
              "       1.77  , 1.82  , 1.69  , 1.74  , 1.79  , 1.84  , 1.7   , 1.76  ,\n",
              "       1.81  , 1.86  , 1.72  , 1.78  , 1.83  , 1.88  , 1.74  , 1.8   ,\n",
              "       1.85  , 1.76  , 1.82  , 1.87  , 1.78  , 1.84  , 1.89  , 1.8   ,\n",
              "       1.86  , 1.91  , 1.82  , 1.88  , 1.93  ])"
            ]
          },
          "metadata": {},
          "execution_count": 4
        }
      ]
    },
    {
      "cell_type": "code",
      "source": [
        "from sklearn.model_selection import train_test_split\n",
        "X_train, X_test, Y_train, Y_test = train_test_split(X, Y, test_size = 0.2, random_state = 0)\n",
        "print(X_train.shape)\n",
        "print(X_test.shape)\n",
        "print(Y_train.shape)\n",
        "print(Y_test.shape)"
      ],
      "metadata": {
        "colab": {
          "base_uri": "https://localhost:8080/"
        },
        "id": "ttvz0EeiSn6r",
        "outputId": "4b04abdf-0acc-41df-bdf8-4cb4687eb9a6"
      },
      "execution_count": null,
      "outputs": [
        {
          "output_type": "stream",
          "name": "stdout",
          "text": [
            "(592, 1)\n",
            "(149, 1)\n",
            "(592,)\n",
            "(149,)\n"
          ]
        }
      ]
    },
    {
      "cell_type": "code",
      "source": [
        "from sklearn.tree import DecisionTreeRegressor\n",
        "model = DecisionTreeRegressor()\n",
        "model.fit(X_train, Y_train)"
      ],
      "metadata": {
        "colab": {
          "base_uri": "https://localhost:8080/",
          "height": 75
        },
        "id": "WVoExWrIStu6",
        "outputId": "126ff211-b1c0-4ee1-9ea5-e3b44a9f36b5"
      },
      "execution_count": null,
      "outputs": [
        {
          "output_type": "execute_result",
          "data": {
            "text/plain": [
              "DecisionTreeRegressor()"
            ],
            "text/html": [
              "<style>#sk-container-id-1 {color: black;}#sk-container-id-1 pre{padding: 0;}#sk-container-id-1 div.sk-toggleable {background-color: white;}#sk-container-id-1 label.sk-toggleable__label {cursor: pointer;display: block;width: 100%;margin-bottom: 0;padding: 0.3em;box-sizing: border-box;text-align: center;}#sk-container-id-1 label.sk-toggleable__label-arrow:before {content: \"▸\";float: left;margin-right: 0.25em;color: #696969;}#sk-container-id-1 label.sk-toggleable__label-arrow:hover:before {color: black;}#sk-container-id-1 div.sk-estimator:hover label.sk-toggleable__label-arrow:before {color: black;}#sk-container-id-1 div.sk-toggleable__content {max-height: 0;max-width: 0;overflow: hidden;text-align: left;background-color: #f0f8ff;}#sk-container-id-1 div.sk-toggleable__content pre {margin: 0.2em;color: black;border-radius: 0.25em;background-color: #f0f8ff;}#sk-container-id-1 input.sk-toggleable__control:checked~div.sk-toggleable__content {max-height: 200px;max-width: 100%;overflow: auto;}#sk-container-id-1 input.sk-toggleable__control:checked~label.sk-toggleable__label-arrow:before {content: \"▾\";}#sk-container-id-1 div.sk-estimator input.sk-toggleable__control:checked~label.sk-toggleable__label {background-color: #d4ebff;}#sk-container-id-1 div.sk-label input.sk-toggleable__control:checked~label.sk-toggleable__label {background-color: #d4ebff;}#sk-container-id-1 input.sk-hidden--visually {border: 0;clip: rect(1px 1px 1px 1px);clip: rect(1px, 1px, 1px, 1px);height: 1px;margin: -1px;overflow: hidden;padding: 0;position: absolute;width: 1px;}#sk-container-id-1 div.sk-estimator {font-family: monospace;background-color: #f0f8ff;border: 1px dotted black;border-radius: 0.25em;box-sizing: border-box;margin-bottom: 0.5em;}#sk-container-id-1 div.sk-estimator:hover {background-color: #d4ebff;}#sk-container-id-1 div.sk-parallel-item::after {content: \"\";width: 100%;border-bottom: 1px solid gray;flex-grow: 1;}#sk-container-id-1 div.sk-label:hover label.sk-toggleable__label {background-color: #d4ebff;}#sk-container-id-1 div.sk-serial::before {content: \"\";position: absolute;border-left: 1px solid gray;box-sizing: border-box;top: 0;bottom: 0;left: 50%;z-index: 0;}#sk-container-id-1 div.sk-serial {display: flex;flex-direction: column;align-items: center;background-color: white;padding-right: 0.2em;padding-left: 0.2em;position: relative;}#sk-container-id-1 div.sk-item {position: relative;z-index: 1;}#sk-container-id-1 div.sk-parallel {display: flex;align-items: stretch;justify-content: center;background-color: white;position: relative;}#sk-container-id-1 div.sk-item::before, #sk-container-id-1 div.sk-parallel-item::before {content: \"\";position: absolute;border-left: 1px solid gray;box-sizing: border-box;top: 0;bottom: 0;left: 50%;z-index: -1;}#sk-container-id-1 div.sk-parallel-item {display: flex;flex-direction: column;z-index: 1;position: relative;background-color: white;}#sk-container-id-1 div.sk-parallel-item:first-child::after {align-self: flex-end;width: 50%;}#sk-container-id-1 div.sk-parallel-item:last-child::after {align-self: flex-start;width: 50%;}#sk-container-id-1 div.sk-parallel-item:only-child::after {width: 0;}#sk-container-id-1 div.sk-dashed-wrapped {border: 1px dashed gray;margin: 0 0.4em 0.5em 0.4em;box-sizing: border-box;padding-bottom: 0.4em;background-color: white;}#sk-container-id-1 div.sk-label label {font-family: monospace;font-weight: bold;display: inline-block;line-height: 1.2em;}#sk-container-id-1 div.sk-label-container {text-align: center;}#sk-container-id-1 div.sk-container {/* jupyter's `normalize.less` sets `[hidden] { display: none; }` but bootstrap.min.css set `[hidden] { display: none !important; }` so we also need the `!important` here to be able to override the default hidden behavior on the sphinx rendered scikit-learn.org. See: https://github.com/scikit-learn/scikit-learn/issues/21755 */display: inline-block !important;position: relative;}#sk-container-id-1 div.sk-text-repr-fallback {display: none;}</style><div id=\"sk-container-id-1\" class=\"sk-top-container\"><div class=\"sk-text-repr-fallback\"><pre>DecisionTreeRegressor()</pre><b>In a Jupyter environment, please rerun this cell to show the HTML representation or trust the notebook. <br />On GitHub, the HTML representation is unable to render, please try loading this page with nbviewer.org.</b></div><div class=\"sk-container\" hidden><div class=\"sk-item\"><div class=\"sk-estimator sk-toggleable\"><input class=\"sk-toggleable__control sk-hidden--visually\" id=\"sk-estimator-id-1\" type=\"checkbox\" checked><label for=\"sk-estimator-id-1\" class=\"sk-toggleable__label sk-toggleable__label-arrow\">DecisionTreeRegressor</label><div class=\"sk-toggleable__content\"><pre>DecisionTreeRegressor()</pre></div></div></div></div></div>"
            ]
          },
          "metadata": {},
          "execution_count": 6
        }
      ]
    },
    {
      "cell_type": "code",
      "source": [
        "x_val = np.arange(min(X_train), max(X_train), 0.01)\n",
        "x_val = x_val.reshape((len(x_val), 1))\n",
        "plt.scatter(X_train, Y_train, color = 'red')\n",
        "plt.plot(x_val, model.predict(x_val), color = 'blue')\n",
        "plt.title('Height prediction using decisiontree')\n",
        "plt.xlabel('Age')\n",
        "plt.ylabel('Height')\n",
        "plt.figure()\n",
        "plt.show()"
      ],
      "metadata": {
        "colab": {
          "base_uri": "https://localhost:8080/",
          "height": 547
        },
        "id": "6113khPbS94s",
        "outputId": "93bd90ac-2e74-411a-df1a-83415b12e8f9"
      },
      "execution_count": null,
      "outputs": [
        {
          "output_type": "stream",
          "name": "stderr",
          "text": [
            "<ipython-input-7-79338135ad4d>:1: DeprecationWarning: Conversion of an array with ndim > 0 to a scalar is deprecated, and will error in future. Ensure you extract a single element from your array before performing this operation. (Deprecated NumPy 1.25.)\n",
            "  x_val = np.arange(min(X_train), max(X_train), 0.01)\n"
          ]
        },
        {
          "output_type": "display_data",
          "data": {
            "text/plain": [
              "<Figure size 640x480 with 1 Axes>"
            ],
            "image/png": "[encoded data removed]"
          },
          "metadata": {}
        },
        {
          "output_type": "display_data",
          "data": {
            "text/plain": [
              "<Figure size 640x480 with 0 Axes>"
            ]
          },
          "metadata": {}
        }
      ]
    },
    {
      "cell_type": "code",
      "source": [
        "y_pred = model.predict(X_test)\n",
        "\n",
        "from sklearn.metrics import r2_score, mean_squared_error\n",
        "mse = mean_squared_error(Y_test, y_pred)\n",
        "rmse = np.sqrt(mse)\n",
        "print(\"Root Mean Square Error:\",rmse)\n",
        "r2score = r2_score(Y_test, y_pred)\n",
        "print(\"R2Score\",r2score*100)"
      ],
      "metadata": {
        "colab": {
          "base_uri": "https://localhost:8080/"
        },
        "id": "efkMHJ2dT1I1",
        "outputId": "b22c328d-e4d8-4270-c5f8-a334681a86d9"
      },
      "execution_count": null,
      "outputs": [
        {
          "output_type": "stream",
          "name": "stdout",
          "text": [
            "Root Mean Square Error: 0.07265191781763386\n",
            "R2Score 14.807512273795387\n"
          ]
        }
      ]
    },
    {
      "cell_type": "code",
      "source": [
        "ip =[[34]]\n",
        "op = model.predict(ip)\n",
        "print('Result',op)"
      ],
      "metadata": {
        "colab": {
          "base_uri": "https://localhost:8080/"
        },
        "id": "iLziDi-YUmTF",
        "outputId": "e40906f8-83d5-40ab-e229-a4350e2329ca"
      },
      "execution_count": null,
      "outputs": [
        {
          "output_type": "stream",
          "name": "stdout",
          "text": [
            "Result [1.73062857]\n"
          ]
        }
      ]
    }
  ]
}